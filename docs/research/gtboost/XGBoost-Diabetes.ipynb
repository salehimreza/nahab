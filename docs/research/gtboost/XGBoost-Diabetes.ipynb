{
 "cells": [
  {
   "cell_type": "code",
   "id": "initial_id",
   "metadata": {
    "collapsed": true,
    "ExecuteTime": {
     "end_time": "2024-11-09T06:39:51.059939Z",
     "start_time": "2024-11-09T06:39:51.011100Z"
    }
   },
   "source": [
    "import xgboost as xgb\n",
    "import pandas as pd\n",
    "from sklearn.model_selection import train_test_split\n",
    "from sklearn.metrics import accuracy_score\n",
    "\n",
    "df=dataset = pd.read_csv(r'diabetes.csv')\n",
    "X, y = df.drop(columns=['Outcome']), dataset['Outcome']\n",
    "print('X shape:', X.shape)\n",
    "print('y shape:', y.shape)\n",
    "\n",
    "# Split dataset into train and test sets\n",
    "X_train, X_test, y_train, y_test = train_test_split(\n",
    "    X, y, test_size=0.4, random_state=42)\n",
    "\n",
    "# Instantiate an XGBoost classifier\n",
    "model = xgb.XGBClassifier(n_estimators = 4, learning_rate = 0.7, max_depth =5)\n",
    "\n",
    "from sklearn.preprocessing import MinMaxScaler\n",
    "\n",
    "scaler = MinMaxScaler()\n",
    "scaler.fit(X_train)\n",
    "X_train_scaled = scaler.transform(X_train)\n",
    "X_test_scaled = scaler.transform(X_test)\n",
    "print(X_train_scaled)\n",
    "# Train the model\n",
    "model.fit(X_train_scaled, y_train)\n",
    "\n",
    "# Make predictions\n",
    "predictions = model.predict(X_test_scaled)\n",
    "\n",
    "# Evaluate the model\n",
    "accuracy = accuracy_score(y_test, predictions)\n",
    "print('y_test:', y_test)\n",
    "print('predictions:', predictions)\n",
    "print(f\"Accuracy: {accuracy * 100:.2f}%\")"
   ],
   "outputs": [
    {
     "name": "stdout",
     "output_type": "stream",
     "text": [
      "X shape: (768, 8)\n",
      "y shape: (768,)\n",
      "[[0.         0.47236181 0.         ... 0.         0.07600342 0.06666667]\n",
      " [0.47058824 0.6281407  0.78688525 ... 0.         0.06575576 0.55      ]\n",
      " [0.05882353 0.55778894 0.70491803 ... 0.50673401 0.02775406 0.03333333]\n",
      " ...\n",
      " [0.58823529 0.50753769 0.70491803 ... 0.76767677 0.45175064 0.28333333]\n",
      " [0.         0.70854271 0.         ... 0.71380471 0.05422716 0.13333333]\n",
      " [0.         0.6281407  0.78688525 ... 0.37878788 0.07856533 0.        ]]\n",
      "y_test: 668    0\n",
      "324    0\n",
      "624    0\n",
      "690    0\n",
      "473    0\n",
      "      ..\n",
      "367    0\n",
      "446    0\n",
      "589    0\n",
      "342    0\n",
      "453    0\n",
      "Name: Outcome, Length: 308, dtype: int64\n",
      "predictions: [0 0 0 0 1 1 0 1 1 0 0 1 0 0 0 0 0 0 1 1 0 0 0 0 0 1 0 0 0 0 1 1 1 1 1 1 1\n",
      " 0 0 1 0 0 1 1 0 1 1 0 0 1 0 1 1 0 0 0 1 0 0 1 1 0 0 0 0 1 0 1 0 1 1 0 0 0\n",
      " 0 0 0 0 0 0 1 0 0 0 0 1 1 1 0 0 0 0 0 1 1 1 1 0 1 0 1 0 1 0 1 0 0 1 0 1 0\n",
      " 0 0 1 0 0 1 0 0 1 0 0 0 0 0 0 0 1 1 1 1 1 0 1 1 0 0 1 1 0 0 0 0 0 0 0 0 0\n",
      " 0 1 0 1 1 0 0 1 1 0 1 0 0 1 0 0 0 1 0 0 1 1 1 0 1 1 1 0 1 1 1 1 0 1 0 1 1\n",
      " 0 0 0 0 1 0 0 1 0 0 0 0 0 0 1 0 0 0 0 0 0 0 0 1 0 0 0 0 0 1 0 1 1 0 1 1 0\n",
      " 0 0 0 1 0 0 0 1 0 0 0 1 1 0 0 0 1 1 0 0 1 0 0 0 1 0 0 0 0 0 1 0 0 0 0 1 0\n",
      " 0 1 1 0 0 0 0 0 0 0 0 0 0 1 1 1 0 0 1 0 0 0 1 1 1 0 1 1 0 0 1 0 0 1 1 1 0\n",
      " 0 1 1 0 0 1 1 0 0 0 0 0]\n",
      "Accuracy: 79.55%\n"
     ]
    }
   ],
   "execution_count": 3
  }
 ],
 "metadata": {
  "kernelspec": {
   "display_name": "Python 3",
   "language": "python",
   "name": "python3"
  },
  "language_info": {
   "codemirror_mode": {
    "name": "ipython",
    "version": 2
   },
   "file_extension": ".py",
   "mimetype": "text/x-python",
   "name": "python",
   "nbconvert_exporter": "python",
   "pygments_lexer": "ipython2",
   "version": "2.7.6"
  }
 },
 "nbformat": 4,
 "nbformat_minor": 5
}
