{
 "cells": [
  {
   "cell_type": "code",
   "execution_count": 27,
   "metadata": {},
   "outputs": [
    {
     "name": "stdout",
     "output_type": "stream",
     "text": [
      "[[314807      1]\n",
      " [     1  31221]]\n",
      "\n",
      "\n",
      "              precision    recall  f1-score   support\n",
      "\n",
      "           0       1.00      1.00      1.00    314808\n",
      "           1       1.00      1.00      1.00     31222\n",
      "\n",
      "    accuracy                           1.00    346030\n",
      "   macro avg       1.00      1.00      1.00    346030\n",
      "weighted avg       1.00      1.00      1.00    346030\n",
      "\n"
     ]
    }
   ],
   "source": [
    "\n",
    "import pandas as pd\n",
    "from datetime import datetime\n",
    "from sklearn.ensemble import RandomForestClassifier\n",
    "\n",
    "final_nahab = pd.read_csv(r'finaOutput.csv')\n",
    "\n",
    "current_year = datetime.now().year\n",
    "final_nahab['BIRTHDATE'] = pd.to_datetime(final_nahab['BIRTHDATE'], errors='coerce')\n",
    "final_nahab['age'] = current_year - final_nahab['BIRTHDATE'].dt.year\n",
    "\n",
    "final_nahab = final_nahab.drop(columns=['BIRTHDATE'])\n",
    "from sklearn.model_selection import train_test_split\n",
    "\n",
    "x = final_nahab.drop('requiredInquiry', axis=1)\n",
    "y = final_nahab['requiredInquiry']\n",
    "X_train, X_test, y_train, y_test = train_test_split(x, y, test_size=0.33, random_state=42)\n",
    "\n",
    "dtree = RandomForestClassifier()\n",
    "\n",
    "dtree.fit(X_train,y_train)\n",
    "prediction = dtree.predict(X_test)\n",
    "from sklearn.metrics import classification_report , confusion_matrix\n",
    "\n",
    "print(confusion_matrix(y_test,prediction))\n",
    "print('\\n')\n",
    "print(classification_report(y_test,prediction))"
   ]
  }
 ],
 "metadata": {
  "kernelspec": {
   "display_name": "Python 3",
   "language": "python",
   "name": "python3"
  },
  "language_info": {
   "codemirror_mode": {
    "name": "ipython",
    "version": 3
   },
   "file_extension": ".py",
   "mimetype": "text/x-python",
   "name": "python",
   "nbconvert_exporter": "python",
   "pygments_lexer": "ipython3",
   "version": "3.12.6"
  }
 },
 "nbformat": 4,
 "nbformat_minor": 2
}
